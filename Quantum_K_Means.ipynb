{
 "cells": [
  {
   "cell_type": "markdown",
   "id": "QsUYbDy9ri4b",
   "metadata": {
    "id": "QsUYbDy9ri4b"
   },
   "source": [
    "# $$⚛ \\space Quantum \\space K-Means\\space Clustering $$"
   ]
  },
  {
   "cell_type": "code",
   "execution_count": 2,
   "id": "aaa3f011-5093-492d-b45c-3f554342e6b7",
   "metadata": {},
   "outputs": [
    {
     "name": "stdout",
     "output_type": "stream",
     "text": [
      "Collecting numpy\n",
      "  Downloading numpy-2.0.0-cp39-cp39-macosx_10_9_x86_64.whl.metadata (60 kB)\n",
      "\u001b[2K     \u001b[90m━━━━━━━━━━━━━━━━━━━━━━━━━━━━━━━━━━━━━━━\u001b[0m \u001b[32m60.9/60.9 kB\u001b[0m \u001b[31m424.9 kB/s\u001b[0m eta \u001b[36m0:00:00\u001b[0ma \u001b[36m0:00:01\u001b[0m\n",
      "\u001b[?25hDownloading numpy-2.0.0-cp39-cp39-macosx_10_9_x86_64.whl (21.2 MB)\n",
      "\u001b[2K   \u001b[90m━━━━━━━━━━━━━━━━━━━━━━━━━━━━━━━━━━━━━━━━\u001b[0m \u001b[32m21.2/21.2 MB\u001b[0m \u001b[31m1.7 MB/s\u001b[0m eta \u001b[36m0:00:00\u001b[0m00:01\u001b[0m00:01\u001b[0m\n",
      "\u001b[?25hInstalling collected packages: numpy\n",
      "Successfully installed numpy-2.0.0\n",
      "Note: you may need to restart the kernel to use updated packages.\n"
     ]
    }
   ],
   "source": [
    "pip install numpy\n"
   ]
  },
  {
   "cell_type": "code",
   "execution_count": 2,
   "id": "139daac4-fd17-46ee-a6c0-3aadf9a06975",
   "metadata": {},
   "outputs": [
    {
     "name": "stdout",
     "output_type": "stream",
     "text": [
      "Collecting seaborn\n",
      "  Downloading seaborn-0.13.2-py3-none-any.whl.metadata (5.4 kB)\n",
      "Requirement already satisfied: numpy!=1.24.0,>=1.20 in /opt/anaconda3/envs/myenv/lib/python3.9/site-packages (from seaborn) (2.0.0)\n",
      "Collecting pandas>=1.2 (from seaborn)\n",
      "  Downloading pandas-2.2.2-cp39-cp39-macosx_10_9_x86_64.whl.metadata (19 kB)\n",
      "Requirement already satisfied: matplotlib!=3.6.1,>=3.4 in /opt/anaconda3/envs/myenv/lib/python3.9/site-packages (from seaborn) (3.9.0)\n",
      "Requirement already satisfied: contourpy>=1.0.1 in /opt/anaconda3/envs/myenv/lib/python3.9/site-packages (from matplotlib!=3.6.1,>=3.4->seaborn) (1.2.1)\n",
      "Requirement already satisfied: cycler>=0.10 in /opt/anaconda3/envs/myenv/lib/python3.9/site-packages (from matplotlib!=3.6.1,>=3.4->seaborn) (0.12.1)\n",
      "Requirement already satisfied: fonttools>=4.22.0 in /opt/anaconda3/envs/myenv/lib/python3.9/site-packages (from matplotlib!=3.6.1,>=3.4->seaborn) (4.53.0)\n",
      "Requirement already satisfied: kiwisolver>=1.3.1 in /opt/anaconda3/envs/myenv/lib/python3.9/site-packages (from matplotlib!=3.6.1,>=3.4->seaborn) (1.4.5)\n",
      "Requirement already satisfied: packaging>=20.0 in /opt/anaconda3/envs/myenv/lib/python3.9/site-packages (from matplotlib!=3.6.1,>=3.4->seaborn) (23.2)\n",
      "Requirement already satisfied: pillow>=8 in /opt/anaconda3/envs/myenv/lib/python3.9/site-packages (from matplotlib!=3.6.1,>=3.4->seaborn) (10.3.0)\n",
      "Requirement already satisfied: pyparsing>=2.3.1 in /opt/anaconda3/envs/myenv/lib/python3.9/site-packages (from matplotlib!=3.6.1,>=3.4->seaborn) (3.1.2)\n",
      "Requirement already satisfied: python-dateutil>=2.7 in /opt/anaconda3/envs/myenv/lib/python3.9/site-packages (from matplotlib!=3.6.1,>=3.4->seaborn) (2.9.0.post0)\n",
      "Requirement already satisfied: importlib-resources>=3.2.0 in /opt/anaconda3/envs/myenv/lib/python3.9/site-packages (from matplotlib!=3.6.1,>=3.4->seaborn) (6.4.0)\n",
      "Requirement already satisfied: pytz>=2020.1 in /opt/anaconda3/envs/myenv/lib/python3.9/site-packages (from pandas>=1.2->seaborn) (2024.1)\n",
      "Collecting tzdata>=2022.7 (from pandas>=1.2->seaborn)\n",
      "  Downloading tzdata-2024.1-py2.py3-none-any.whl.metadata (1.4 kB)\n",
      "Requirement already satisfied: zipp>=3.1.0 in /opt/anaconda3/envs/myenv/lib/python3.9/site-packages (from importlib-resources>=3.2.0->matplotlib!=3.6.1,>=3.4->seaborn) (3.17.0)\n",
      "Requirement already satisfied: six>=1.5 in /opt/anaconda3/envs/myenv/lib/python3.9/site-packages (from python-dateutil>=2.7->matplotlib!=3.6.1,>=3.4->seaborn) (1.16.0)\n",
      "Downloading seaborn-0.13.2-py3-none-any.whl (294 kB)\n",
      "\u001b[2K   \u001b[90m━━━━━━━━━━━━━━━━━━━━━━━━━━━━━━━━━━━━━━━━\u001b[0m \u001b[32m294.9/294.9 kB\u001b[0m \u001b[31m1.2 MB/s\u001b[0m eta \u001b[36m0:00:00\u001b[0ma \u001b[36m0:00:01\u001b[0mm\n",
      "\u001b[?25hDownloading pandas-2.2.2-cp39-cp39-macosx_10_9_x86_64.whl (12.6 MB)\n",
      "\u001b[2K   \u001b[90m━━━━━━━━━━━━━━━━━━━━━━━━━━━━━━━━━━━━━━━━\u001b[0m \u001b[32m12.6/12.6 MB\u001b[0m \u001b[31m2.3 MB/s\u001b[0m eta \u001b[36m0:00:00\u001b[0m00:01\u001b[0m00:01\u001b[0m\n",
      "\u001b[?25hDownloading tzdata-2024.1-py2.py3-none-any.whl (345 kB)\n",
      "\u001b[2K   \u001b[90m━━━━━━━━━━━━━━━━━━━━━━━━━━━━━━━━━━━━━━━━\u001b[0m \u001b[32m345.4/345.4 kB\u001b[0m \u001b[31m1.5 MB/s\u001b[0m eta \u001b[36m0:00:00\u001b[0ma \u001b[36m0:00:01\u001b[0m\n",
      "\u001b[?25hInstalling collected packages: tzdata, pandas, seaborn\n",
      "Successfully installed pandas-2.2.2 seaborn-0.13.2 tzdata-2024.1\n",
      "Note: you may need to restart the kernel to use updated packages.\n"
     ]
    }
   ],
   "source": [
    "pip install seaborn"
   ]
  },
  {
   "cell_type": "code",
   "execution_count": 3,
   "id": "516fc36e-419b-4f94-9c8c-61e0fd2ea7ce",
   "metadata": {},
   "outputs": [
    {
     "name": "stdout",
     "output_type": "stream",
     "text": [
      "Collecting qiskit\n",
      "  Using cached qiskit-1.1.1-cp38-abi3-macosx_10_9_x86_64.whl.metadata (12 kB)\n",
      "Collecting rustworkx>=0.14.0 (from qiskit)\n",
      "  Downloading rustworkx-0.14.2-cp39-cp39-macosx_10_12_x86_64.whl.metadata (10.0 kB)\n",
      "Requirement already satisfied: numpy<3,>=1.17 in /opt/anaconda3/envs/myenv/lib/python3.9/site-packages (from qiskit) (2.0.0)\n",
      "Requirement already satisfied: scipy>=1.5 in /opt/anaconda3/envs/myenv/lib/python3.9/site-packages (from qiskit) (1.13.1)\n",
      "Collecting sympy>=1.3 (from qiskit)\n",
      "  Downloading sympy-1.12.1-py3-none-any.whl.metadata (12 kB)\n",
      "Collecting dill>=0.3 (from qiskit)\n",
      "  Using cached dill-0.3.8-py3-none-any.whl.metadata (10 kB)\n",
      "Requirement already satisfied: python-dateutil>=2.8.0 in /opt/anaconda3/envs/myenv/lib/python3.9/site-packages (from qiskit) (2.9.0.post0)\n",
      "Collecting stevedore>=3.0.0 (from qiskit)\n",
      "  Using cached stevedore-5.2.0-py3-none-any.whl.metadata (2.3 kB)\n",
      "Requirement already satisfied: typing-extensions in /opt/anaconda3/envs/myenv/lib/python3.9/site-packages (from qiskit) (4.11.0)\n",
      "Collecting symengine>=0.11 (from qiskit)\n",
      "  Downloading symengine-0.11.0-cp39-cp39-macosx_10_9_x86_64.whl.metadata (1.2 kB)\n",
      "Requirement already satisfied: six>=1.5 in /opt/anaconda3/envs/myenv/lib/python3.9/site-packages (from python-dateutil>=2.8.0->qiskit) (1.16.0)\n",
      "Collecting numpy<3,>=1.17 (from qiskit)\n",
      "  Downloading numpy-1.26.4-cp39-cp39-macosx_10_9_x86_64.whl.metadata (61 kB)\n",
      "\u001b[2K     \u001b[90m━━━━━━━━━━━━━━━━━━━━━━━━━━━━━━━━━━━━━━━\u001b[0m \u001b[32m61.1/61.1 kB\u001b[0m \u001b[31m183.4 kB/s\u001b[0m eta \u001b[36m0:00:00\u001b[0ma \u001b[36m0:00:01\u001b[0m\n",
      "\u001b[?25hCollecting pbr!=2.1.0,>=2.0.0 (from stevedore>=3.0.0->qiskit)\n",
      "  Using cached pbr-6.0.0-py2.py3-none-any.whl.metadata (1.3 kB)\n",
      "Collecting mpmath<1.4.0,>=1.1.0 (from sympy>=1.3->qiskit)\n",
      "  Downloading mpmath-1.3.0-py3-none-any.whl.metadata (8.6 kB)\n",
      "Using cached qiskit-1.1.1-cp38-abi3-macosx_10_9_x86_64.whl (4.1 MB)\n",
      "Using cached dill-0.3.8-py3-none-any.whl (116 kB)\n",
      "Downloading rustworkx-0.14.2-cp39-cp39-macosx_10_12_x86_64.whl (1.8 MB)\n",
      "\u001b[2K   \u001b[90m━━━━━━━━━━━━━━━━━━━━━━━━━━━━━━━━━━━━━━━━\u001b[0m \u001b[32m1.8/1.8 MB\u001b[0m \u001b[31m350.1 kB/s\u001b[0m eta \u001b[36m0:00:00\u001b[0m00:01\u001b[0m00:01\u001b[0m\n",
      "\u001b[?25hDownloading numpy-1.26.4-cp39-cp39-macosx_10_9_x86_64.whl (20.6 MB)\n",
      "\u001b[2K   \u001b[90m━━━━━━━━━━━━━━━━━━━━━━━━━━━━━━━━━━━━━━━━\u001b[0m \u001b[32m20.6/20.6 MB\u001b[0m \u001b[31m507.7 kB/s\u001b[0m eta \u001b[36m0:00:00\u001b[0m00:01\u001b[0m00:01\u001b[0m\n",
      "\u001b[?25hUsing cached stevedore-5.2.0-py3-none-any.whl (49 kB)\n",
      "Downloading symengine-0.11.0-cp39-cp39-macosx_10_9_x86_64.whl (23.8 MB)\n",
      "\u001b[2K   \u001b[90m━━━━━━━━━━━━━━━━━━━━━━━━━━━━━━━━━━━━━━━━\u001b[0m \u001b[32m23.8/23.8 MB\u001b[0m \u001b[31m1.3 MB/s\u001b[0m eta \u001b[36m0:00:00\u001b[0m00:01\u001b[0m00:02\u001b[0mm\n",
      "\u001b[?25hDownloading sympy-1.12.1-py3-none-any.whl (5.7 MB)\n",
      "\u001b[2K   \u001b[90m━━━━━━━━━━━━━━━━━━━━━━━━━━━━━━━━━━━━━━━━\u001b[0m \u001b[32m5.7/5.7 MB\u001b[0m \u001b[31m1.2 MB/s\u001b[0m eta \u001b[36m0:00:00\u001b[0m00:01\u001b[0m00:01\u001b[0m0m\n",
      "\u001b[?25hDownloading mpmath-1.3.0-py3-none-any.whl (536 kB)\n",
      "\u001b[2K   \u001b[90m━━━━━━━━━━━━━━━━━━━━━━━━━━━━━━━━━━━━━━━━\u001b[0m \u001b[32m536.2/536.2 kB\u001b[0m \u001b[31m1.9 MB/s\u001b[0m eta \u001b[36m0:00:00\u001b[0m00:01\u001b[0m00:01\u001b[0m\n",
      "\u001b[?25hUsing cached pbr-6.0.0-py2.py3-none-any.whl (107 kB)\n",
      "Installing collected packages: mpmath, sympy, symengine, pbr, numpy, dill, stevedore, rustworkx, qiskit\n",
      "  Attempting uninstall: numpy\n",
      "    Found existing installation: numpy 2.0.0\n",
      "    Uninstalling numpy-2.0.0:\n",
      "      Successfully uninstalled numpy-2.0.0\n",
      "Successfully installed dill-0.3.8 mpmath-1.3.0 numpy-1.26.4 pbr-6.0.0 qiskit-1.1.1 rustworkx-0.14.2 stevedore-5.2.0 symengine-0.11.0 sympy-1.12.1\n",
      "Note: you may need to restart the kernel to use updated packages.\n"
     ]
    }
   ],
   "source": [
    "pip install qiskit\n"
   ]
  },
  {
   "cell_type": "code",
   "execution_count": 5,
   "id": "f4b7ead2-6cd2-47ad-90f7-e04dca2f1d2f",
   "metadata": {},
   "outputs": [
    {
     "name": "stdout",
     "output_type": "stream",
     "text": [
      "Collecting scikit-learn\n",
      "  Downloading scikit_learn-1.5.0-cp39-cp39-macosx_10_9_x86_64.whl.metadata (11 kB)\n",
      "Requirement already satisfied: numpy>=1.19.5 in /opt/anaconda3/envs/myenv/lib/python3.9/site-packages (from scikit-learn) (2.0.0)\n",
      "Collecting scipy>=1.6.0 (from scikit-learn)\n",
      "  Downloading scipy-1.13.1-cp39-cp39-macosx_10_9_x86_64.whl.metadata (60 kB)\n",
      "\u001b[2K     \u001b[90m━━━━━━━━━━━━━━━━━━━━━━━━━━━━━━━━━━━━━━━\u001b[0m \u001b[32m60.6/60.6 kB\u001b[0m \u001b[31m463.2 kB/s\u001b[0m eta \u001b[36m0:00:00\u001b[0ma \u001b[36m0:00:01\u001b[0m\n",
      "\u001b[?25hCollecting joblib>=1.2.0 (from scikit-learn)\n",
      "  Downloading joblib-1.4.2-py3-none-any.whl.metadata (5.4 kB)\n",
      "Collecting threadpoolctl>=3.1.0 (from scikit-learn)\n",
      "  Downloading threadpoolctl-3.5.0-py3-none-any.whl.metadata (13 kB)\n",
      "Downloading scikit_learn-1.5.0-cp39-cp39-macosx_10_9_x86_64.whl (12.1 MB)\n",
      "\u001b[2K   \u001b[90m━━━━━━━━━━━━━━━━━━━━━━━━━━━━━━━━━━━━━━━━\u001b[0m \u001b[32m12.1/12.1 MB\u001b[0m \u001b[31m1.8 MB/s\u001b[0m eta \u001b[36m0:00:00\u001b[0m00:01\u001b[0m00:01\u001b[0mm\n",
      "\u001b[?25hDownloading joblib-1.4.2-py3-none-any.whl (301 kB)\n",
      "\u001b[2K   \u001b[90m━━━━━━━━━━━━━━━━━━━━━━━━━━━━━━━━━━━━━━━━\u001b[0m \u001b[32m301.8/301.8 kB\u001b[0m \u001b[31m2.7 MB/s\u001b[0m eta \u001b[36m0:00:00\u001b[0ma \u001b[36m0:00:01\u001b[0m\n",
      "\u001b[?25hDownloading scipy-1.13.1-cp39-cp39-macosx_10_9_x86_64.whl (39.4 MB)\n",
      "\u001b[2K   \u001b[90m━━━━━━━━━━━━━━━━━━━━━━━━━━━━━━━━━━━━━━━━\u001b[0m \u001b[32m39.4/39.4 MB\u001b[0m \u001b[31m1.6 MB/s\u001b[0m eta \u001b[36m0:00:00\u001b[0m00:01\u001b[0m00:01\u001b[0m\n",
      "\u001b[?25hDownloading threadpoolctl-3.5.0-py3-none-any.whl (18 kB)\n",
      "Installing collected packages: threadpoolctl, scipy, joblib, scikit-learn\n",
      "Successfully installed joblib-1.4.2 scikit-learn-1.5.0 scipy-1.13.1 threadpoolctl-3.5.0\n",
      "Note: you may need to restart the kernel to use updated packages.\n"
     ]
    }
   ],
   "source": [
    "pip install scikit-learn\n"
   ]
  },
  {
   "cell_type": "code",
   "execution_count": 1,
   "id": "0ec6805a-a351-46ba-a293-356dcde831b2",
   "metadata": {
    "id": "0ec6805a-a351-46ba-a293-356dcde831b2"
   },
   "outputs": [],
   "source": [
    "from numpy import ndarray\n",
    "import numpy as np\n",
    "\n",
    "import matplotlib.pylab as plt\n",
    "import seaborn as sns\n",
    "import pandas as pd\n",
    "\n",
    "from sklearn.metrics import silhouette_score\n",
    "\n",
    "from typing import Union, Optional"
   ]
  },
  {
   "cell_type": "code",
   "execution_count": 2,
   "id": "e1aca70a-2bd0-4a9c-9527-04781deca86f",
   "metadata": {
    "id": "e1aca70a-2bd0-4a9c-9527-04781deca86f"
   },
   "outputs": [],
   "source": [
    "from qiskit.circuit.library import (\n",
    "                        RXGate, RYGate, ZGate , XGate, YGate\n",
    "                        )\n",
    "from qiskit.visualization import array_to_latex"
   ]
  },
  {
   "cell_type": "markdown",
   "id": "25WsTCaxrapD",
   "metadata": {
    "id": "25WsTCaxrapD"
   },
   "source": [
    "## Classical Clustering\n",
    "\n",
    "- determine the number of clusters\n",
    "- randomly initialize the centroids\n",
    "- measure distances between data points and the centroids >> Fidelity\n",
    "- assign data points to the nearest centroid\n",
    "- update the position of the centroid according to the mean of each cluster"
   ]
  },
  {
   "cell_type": "code",
   "execution_count": 3,
   "id": "vvom75xYwFpf",
   "metadata": {
    "id": "vvom75xYwFpf"
   },
   "outputs": [],
   "source": [
    "import numpy as np\n",
    "from numpy import ndarray\n",
    "\n",
    "def kMeansInitCentroids(X: ndarray, K: int) -> ndarray:\n",
    "    \"\"\"Initialize the centroids of the clusters.\n",
    "\n",
    "    Returns an initial centroid for each cluster.\n",
    "\n",
    "    Parameters\n",
    "    ----------\n",
    "    X : numpy.ndarray, shape=(M, N)\n",
    "        Data vector.\n",
    "\n",
    "    K : int\n",
    "        Number of clusters.\n",
    "\n",
    "    Returns\n",
    "    -------\n",
    "    numpy.ndarray, shape=(K, N)\n",
    "        Initial centroids.\n",
    "    \"\"\"\n",
    "\n",
    "    m = X.shape[0]\n",
    "    idx = np.random.choice(m, K, replace=False)\n",
    "    centroids = X[idx]\n",
    "\n",
    "    return centroids\n",
    "\n",
    "def computeCentroids(X: ndarray, idx: ndarray, K: int = 2) -> ndarray:\n",
    "    \"\"\"Update the centroids of the clusters.\n",
    "\n",
    "    Returns a new centroid for each cluster.\n",
    "\n",
    "    Parameters\n",
    "    ----------\n",
    "    X : numpy.ndarray, shape=(M, N)\n",
    "        Encoded Data vector.\n",
    "\n",
    "    idx : numpy.ndarray, shape=(M, )\n",
    "        Represent the cluster each point is assigned to.\n",
    "\n",
    "    K : int\n",
    "        Number of clusters.\n",
    "\n",
    "    Returns\n",
    "    -------\n",
    "    numpy.ndarray, shape=(K, N)\n",
    "        Updated centroids.\n",
    "    \"\"\" \n",
    "\n",
    "    n = X.shape[1]\n",
    "    centroids = np.zeros((K, n))\n",
    "\n",
    "    for i in range(K):\n",
    "        cluster_points = X[idx == i]\n",
    "        if len(cluster_points) > 0:\n",
    "            centroids[i] = np.mean(cluster_points, axis=0)\n",
    "\n",
    "    return centroids\n",
    "\n",
    "def findClosestCentroids(X: ndarray, centroids: ndarray) -> ndarray:\n",
    "    \"\"\"Find the closest centroids for each point.\n",
    "\n",
    "    Returns an array where each point is assigned to the closest cluster.\n",
    "\n",
    "    Parameters\n",
    "    ----------\n",
    "    X : numpy.ndarray, shape=(M, N)\n",
    "        Data vector.\n",
    "\n",
    "    centroids : numpy.ndarray, shape=(K, N)\n",
    "        Represent the encoded centroids.\n",
    "\n",
    "    Returns\n",
    "    -------\n",
    "    numpy.ndarray, shape=(M, )\n",
    "        Array where each point is assigned to the closest cluster.\n",
    "    \"\"\" \n",
    "    m = X.shape[0]\n",
    "    closest_centroids = np.zeros(m, dtype=int)\n",
    "\n",
    "    for i in range(m):\n",
    "        distances = np.linalg.norm(X[i] - centroids, axis=1)\n",
    "        closest_centroids[i] = np.argmin(distances)\n",
    "\n",
    "    return closest_centroids\n",
    "\n",
    "def k_means(X: ndarray, k: int = 2, max_iter: int = 300) -> tuple[ndarray, ndarray]:\n",
    "    \"\"\"K-Means algorithm for clustering the data into K clusters.\n",
    "\n",
    "    Returns the centroids and an array where each point is assigned to the closest cluster.\n",
    "\n",
    "    Parameters\n",
    "    ----------\n",
    "    X : numpy.ndarray, shape=(M, N)\n",
    "        Data vector.\n",
    "\n",
    "    K : int\n",
    "        Number of clusters.\n",
    "\n",
    "    max_iter : int\n",
    "        Number of iterations.\n",
    "\n",
    "    Returns\n",
    "    -------\n",
    "    numpy.ndarray, shape=(K, N)\n",
    "        The centroids.\n",
    "\n",
    "    numpy.ndarray, shape=(M, )\n",
    "        Array where each point is assigned to the closest cluster.\n",
    "    \"\"\" \n",
    "\n",
    "    centroids = kMeansInitCentroids(X, k)\n",
    "    for _ in range(max_iter):\n",
    "        idx = findClosestCentroids(X, centroids)\n",
    "        centroids = computeCentroids(X, idx, k)\n",
    "\n",
    "    return centroids, idx\n"
   ]
  },
  {
   "cell_type": "markdown",
   "id": "83acd0ab",
   "metadata": {},
   "source": [
    "#### Create The Dataset"
   ]
  },
  {
   "cell_type": "code",
   "execution_count": 4,
   "id": "CUB4q4Saz2Yi",
   "metadata": {
    "colab": {
     "base_uri": "https://localhost:8080/",
     "height": 447
    },
    "id": "CUB4q4Saz2Yi",
    "outputId": "d5330985-4616-4076-8152-7effaf37042a"
   },
   "outputs": [
    {
     "data": {
      "image/png": "[encoded data removed]",
      "text/plain": [
       "<Figure size 640x480 with 1 Axes>"
      ]
     },
     "metadata": {},
     "output_type": "display_data"
    }
   ],
   "source": [
    "import numpy as np\n",
    "import matplotlib.pyplot as plt\n",
    "\n",
    "def CreateDataset(mean1: float, mean2: float, std1: float, std2: float, n_samples: int = 100) -> tuple:\n",
    "    \"\"\"\n",
    "    Create a normally distributed dataset.\n",
    "\n",
    "    Parameters\n",
    "    ----------\n",
    "    mean1 : float\n",
    "        Mean of the first dataset.\n",
    "    \n",
    "    mean2 : float\n",
    "        Mean of the second dataset.\n",
    "\n",
    "    std1 : float\n",
    "        Standard deviation of the first dataset.\n",
    "\n",
    "    std2 : float\n",
    "        Standard deviation of the second dataset.\n",
    "\n",
    "    n_samples : int\n",
    "        Number of samples required for each dataset.\n",
    "    \n",
    "    Returns\n",
    "    -------\n",
    "    tuple : tuple of numpy arrays\n",
    "        Returns x1, x2, y1, y2.\n",
    "    \"\"\"\n",
    "\n",
    "    x1 = np.random.normal(mean1, std1, n_samples)\n",
    "    y1 = np.ones(len(x1))\n",
    "\n",
    "    x2 = np.random.normal(mean2, std2, n_samples)\n",
    "    y2 = np.zeros(len(x2))\n",
    "\n",
    "    return x1, x2, y1, y2\n",
    "\n",
    "# Creating the datasets\n",
    "x1, x2, y1, y2 = CreateDataset(2, -2, 0.1, 0.1, 100)\n",
    "\n",
    "# Visualize the dataset\n",
    "plt.scatter(x1, y1, label='Class 1')\n",
    "plt.scatter(x2, y2, label='Class 2')\n",
    "plt.legend()\n",
    "plt.xlabel('Feature')\n",
    "plt.ylabel('Class')\n",
    "plt.title('Generated Dataset')\n",
    "plt.show()\n"
   ]
  },
  {
   "cell_type": "markdown",
   "id": "Pmve7tbz0aeM",
   "metadata": {
    "id": "Pmve7tbz0aeM"
   },
   "source": [
    "### Testing Classical Clustering\n"
   ]
  },
  {
   "cell_type": "code",
   "execution_count": 5,
   "id": "gG5gZnrP1P5d",
   "metadata": {
    "id": "gG5gZnrP1P5d"
   },
   "outputs": [
    {
     "data": {
      "text/plain": [
       "((200, 1), (200, 1), (200, 2))"
      ]
     },
     "execution_count": 5,
     "metadata": {},
     "output_type": "execute_result"
    }
   ],
   "source": [
    "#### Data preprocesing (concatenation)\n",
    "X = np.concatenate((x1,x2)).reshape(-1,1)\n",
    "Y = np.concatenate((y1,y2)).reshape(-1,1)\n",
    "Data = np.concatenate((X,Y), axis = 1)\n",
    "\n",
    "#### Validate the shapes\n",
    "X.shape, Y.shape, Data.shape"
   ]
  },
  {
   "cell_type": "code",
   "execution_count": 6,
   "id": "4bc07b2a",
   "metadata": {},
   "outputs": [],
   "source": [
    "#### Running the Classical K-Means\n",
    "centroids, idx = k_means(X, 2)"
   ]
  },
  {
   "cell_type": "markdown",
   "id": "8d87c6ba",
   "metadata": {},
   "source": [
    "### Create Visualize Function"
   ]
  },
  {
   "cell_type": "code",
   "execution_count": 7,
   "id": "pfhM4k1j3vI4",
   "metadata": {
    "colab": {
     "base_uri": "https://localhost:8080/",
     "height": 447
    },
    "id": "pfhM4k1j3vI4",
    "outputId": "e3fdbc1d-dca2-42c7-dff5-73be1000af4d"
   },
   "outputs": [],
   "source": [
    "import numpy as np\n",
    "import pandas as pd\n",
    "import seaborn as sns\n",
    "import matplotlib.pyplot as plt\n",
    "from numpy import ndarray\n",
    "from typing import Union, Optional\n",
    "\n",
    "def visualize(X: ndarray, idx: ndarray, centroids: Union[ndarray, list]) -> Optional[AssertionError]:\n",
    "    \"\"\"Visualize the clusters and the centroid of each cluster.\n",
    "\n",
    "    Parameters\n",
    "    ----------\n",
    "    X : numpy.ndarray, shape=(M, 1)\n",
    "        Encoded Data vector.\n",
    "\n",
    "    idx : numpy.ndarray, shape=(M, )\n",
    "        Represent the cluster each point is assigned to.\n",
    "\n",
    "    centroids : numpy.ndarray, shape=(K, 1)\n",
    "        Centroids of clusters.\n",
    "    \n",
    "    Notes\n",
    "    -----\n",
    "        This function only works with one feature.\n",
    "    \"\"\"\n",
    "\n",
    "    assert X.shape[1] == 1, \"This function only works with one feature\"\n",
    "    \n",
    "    # Visualize the clustered data\n",
    "    df = pd.DataFrame(np.concatenate((X, idx.reshape(-1, 1)), axis=1), columns=['X', 'idx'])\n",
    "    sns.scatterplot(data=df, x='X', y='idx', hue='idx')\n",
    "\n",
    "    # Plot the centroids\n",
    "    for i, centroid in enumerate(centroids):\n",
    "        plt.scatter(centroid, i, c='red' if i == 0 else 'green', label=f'Centroid {i}')\n",
    "    \n",
    "    plt.legend()\n",
    "    plt.show()\n",
    "\n",
    "# Example usage (assuming you have `X`, `idx`, and `centroids` variables defined from previous k-means run)\n",
    "# visualize(X, idx, centroids)\n"
   ]
  },
  {
   "cell_type": "markdown",
   "id": "i1ON8M5jrauB",
   "metadata": {
    "id": "i1ON8M5jrauB"
   },
   "source": [
    "## Quantum Clustering"
   ]
  },
  {
   "cell_type": "markdown",
   "id": "SlOhjg2EvLPu",
   "metadata": {
    "id": "SlOhjg2EvLPu"
   },
   "source": [
    "### Quantum Pre-processing"
   ]
  },
  {
   "cell_type": "code",
   "execution_count": 8,
   "id": "628db98f",
   "metadata": {},
   "outputs": [],
   "source": [
    "def init_state() -> ndarray:\n",
    "    \"\"\"\n",
    "    Set the initial state to the ground state (zero vector)\n",
    "\n",
    "    Returns\n",
    "    -------\n",
    "    numpy.ndarray, shape=(2, 1)\n",
    "        Zero vector.\n",
    "    \"\"\"\n",
    "\n",
    "    zero_vec = np.array([[1], [0]])\n",
    "\n",
    "    return zero_vec"
   ]
  },
  {
   "cell_type": "code",
   "execution_count": 9,
   "id": "084510bc",
   "metadata": {},
   "outputs": [],
   "source": [
    "def encode_data(init_state : ndarray[complex] , x : ndarray[float]) -> ndarray[complex]:\n",
    "    \"\"\"\n",
    "    Encode data on a qbit using rotatinal gate => RYGate()\n",
    "\n",
    "    Parameters\n",
    "    ----------\n",
    "    init_state : numpy.ndarray, shape=(2, 1)\n",
    "        The ground state.\n",
    "\n",
    "    x : numpy.ndarray, shape=(M, 1) | (K, 1)\n",
    "        Data vector or Centroids.\n",
    "\n",
    "    Returns\n",
    "    -------\n",
    "    numpy.ndarray, shape=(M, 2, 1)\n",
    "        The encoded data vector.\n",
    "        \n",
    "    Notes\n",
    "    -------\n",
    "    Here we start in an initial state ( zero vector) and apply a rotetinal gate\n",
    "    on this state using the value of each data point.\n",
    "    \"\"\"\n",
    "\n",
    "    evolved_state = []\n",
    "    for point in x:\n",
    "      ry = RYGate(float(point)).to_matrix()\n",
    "      encoded = ry @ init_state\n",
    "      evolved_state.append(encoded)\n",
    "\n",
    "    evolved_state = np.array(evolved_state)\n",
    "    \n",
    "    return evolved_state"
   ]
  },
  {
   "cell_type": "code",
   "execution_count": 10,
   "id": "76cb1168",
   "metadata": {},
   "outputs": [],
   "source": [
    "def calc_fidelity(state1: ndarray[complex]  , state2 : ndarray[complex]) -> float :\n",
    "    \"\"\"\n",
    "    Calculate the fidelity (inner product) between any two quantum states.\n",
    "\n",
    "    Returns the fidelity between the encoded data point and the encoced centroid.\n",
    "\n",
    "    Parameters\n",
    "    ----------\n",
    "    state1 : numpy.ndarray, shape=(2, 1)\n",
    "        The first state.\n",
    "\n",
    "    state2 : numpy.ndarray, shape=(2, 1)\n",
    "        The second state.\n",
    "\n",
    "    Returns\n",
    "    -------\n",
    "    float\n",
    "        Inner product of the states.\n",
    "\n",
    "    Notes\n",
    "    -----\n",
    "    the output should be a real scalar between 0 and 1.\n",
    "\n",
    "    \"\"\"\n",
    "    \n",
    "    return np.vdot(state1, state2).real"
   ]
  },
  {
   "cell_type": "code",
   "execution_count": 11,
   "id": "88Kiawl6vORj",
   "metadata": {
    "id": "88Kiawl6vORj"
   },
   "outputs": [],
   "source": [
    "def measure(state : ndarray[complex], observable : ndarray[complex]) -> float:\n",
    "    \"\"\"\n",
    "    Measure the state of the Qubit on the observable.\n",
    "\n",
    "    Parameters\n",
    "    ----------\n",
    "    state : numpy.ndarray, shape=(2, 1)\n",
    "        The state (Centroid).\n",
    "\n",
    "    observable : numpy.ndarray, shape=(2, 2)\n",
    "        The observable (ZGate).\n",
    "\n",
    "    Returns\n",
    "    -------\n",
    "    float\n",
    "        Classical output of the system.\n",
    "\n",
    "    \"\"\"\n",
    "    \n",
    "    return (state.conj().T @ observable @ state).real"
   ]
  },
  {
   "cell_type": "markdown",
   "id": "0a1f4d9b",
   "metadata": {},
   "source": [
    "#### Here we defined three essential functions to implement Quantum K-Means <br>\n",
    "- The first function is *`init_state`*,  Assuming our initial state is always zero vector with shape `(2, 1)`.  why?\n",
    "\n",
    "    - Because we have **one feuture** and a **singel Qubit** for encoding data in our system.<br>\n",
    "- The second function is *`encode_data`* this function is used to encode both Data and centroids <br>\n",
    "- The third function is *`calc_fidelity`* it only calculates the similarity between the data point and each cluster.<br>\n",
    "- The fourth function is *`measure`* it converts the state of the quantum system to a **real classical value**.(`irreversible process`)"
   ]
  },
  {
   "cell_type": "markdown",
   "id": "f206a00c",
   "metadata": {},
   "source": [
    "### Quantum K-Means\n",
    "- determine the number of clusters\n",
    "- randomly initialize the centroids\n",
    "- measure distances between data points and the centroids >> Fidelity\n",
    "  - Initialize three separable states in the ground state. One is for the data point and the other two represent the centroid.\n",
    "  - choose your encoding scheme\n",
    "  - using a for loop you will pick a classical point to measure the distance between the centroids and this sample.\n",
    "  - encode the data using the encoding scheme (rotational gates)\n",
    "  - apply the selected rotational gates on the states\n",
    "  - then calculate the fidelity between the two states (one state would represent the data point and the other would represent the centroid)\n",
    "- assign data points to the nearest centroid\n",
    "- update the position of the centroid according to the mean of each cluster"
   ]
  },
  {
   "cell_type": "code",
   "execution_count": 12,
   "id": "968372a1",
   "metadata": {},
   "outputs": [],
   "source": [
    "def kMeansInitCentroidsQ(X : ndarray[float], K: int) -> ndarray[complex]:\n",
    "    \"\"\"\n",
    "    Initialize the centroids of the clusters.\n",
    "\n",
    "    Returns an initial centroid for each cluster.\n",
    "\n",
    "    Parameters\n",
    "    ----------\n",
    "    X : numpy.ndarray, shape=(M, 1)\n",
    "        Data vector.\n",
    "\n",
    "    K : int\n",
    "        Number of clusters.\n",
    "\n",
    "    Returns\n",
    "    -------\n",
    "    numpy.ndarray, shape=(K, 2, 1)\n",
    "        Encoded initial centroids.\n",
    "    \"\"\"\n",
    "\n",
    "    M = X.shape[0]\n",
    "    choices = np.random.choice(M, K, replace=False)\n",
    "    centroids = X[choices]\n",
    "    init_state_arr = init_state()\n",
    "    encoded_centroids = encode_data(init_state_arr, centroids )\n",
    "    \n",
    "    return encoded_centroids"
   ]
  },
  {
   "cell_type": "code",
   "execution_count": 13,
   "id": "6e11da88",
   "metadata": {},
   "outputs": [],
   "source": [
    "def findClosestCentroidsQ(X : ndarray[complex], centroids : ndarray[complex]) -> ndarray[int]:\n",
    "    \"\"\"Find the closest centroids for each point.\n",
    "\n",
    "    Returns an array where each point is assigned to the closest cluster.\n",
    "\n",
    "    Parameters\n",
    "    ----------\n",
    "    X : numpy.ndarray, shape=(M, 2, 1)\n",
    "        Encoded data vector.\n",
    "\n",
    "\n",
    "    centroids : numpy.ndarray, shape=(K, 2, 1)\n",
    "        Represent the encoded centroids.\n",
    "\n",
    "    Returns\n",
    "    -------\n",
    "    numpy.ndarray, shape=(M, )\n",
    "        Array where each point is assigned to the closest cluster.\n",
    "    \"\"\" \n",
    "    M = X.shape[0]\n",
    "    idx = np.zeros(M)\n",
    "\n",
    "    \n",
    "    for i in range(M):\n",
    "        fids = []\n",
    "        for cent in centroids:\n",
    "            fidelity = calc_fidelity(X[i], cent)\n",
    "            fids.append(fidelity)\n",
    "        idx[i] = np.argmax(fids)\n",
    "\n",
    "    return idx"
   ]
  },
  {
   "cell_type": "code",
   "execution_count": 14,
   "id": "626cba6d",
   "metadata": {},
   "outputs": [],
   "source": [
    "def computeCentroidsQ(X : ndarray[complex], idx : ndarray[int], K : int = 2) -> ndarray[complex] :\n",
    "    \"\"\"Update the centroids of the clusters.\n",
    "\n",
    "    Returns a new centroid for each cluster.\n",
    "\n",
    "    Parameters\n",
    "    ----------\n",
    "    X : numpy.ndarray, shape=(M, 1)\n",
    "        Encoded Data vector.\n",
    "\n",
    "    idx : numpy.ndarray, shape=(M, )\n",
    "        Represent the cluster each point is assigned to.\n",
    "\n",
    "    K : int\n",
    "        Number of clusters.\n",
    "\n",
    "    Returns\n",
    "    -------\n",
    "    numpy.ndarray, shape=(K, 2, 1)\n",
    "        Updated centroids.\n",
    "    \"\"\" \n",
    "\n",
    "    centroids = np.zeros((K, 2, 1), dtype=complex)\n",
    "\n",
    "    for i in range(K):\n",
    "      cluster_points = X[idx == i]\n",
    "      if len(cluster_points) > 0:\n",
    "          centroids[i] = np.mean(cluster_points, axis=0)\n",
    "          \n",
    "    return centroids"
   ]
  },
  {
   "cell_type": "code",
   "execution_count": 15,
   "id": "d67fd646",
   "metadata": {},
   "outputs": [],
   "source": [
    "def k_meansQ(X : ndarray[float], k: int = 2, max_iter : int = 300) -> tuple[ndarray[complex], ndarray[int]]:\n",
    "    \"\"\"K-Means algorithm for clustring the data into K clusters.\n",
    "\n",
    "    Returns the centroids and an array where each point is assigned to the closest cluster.\n",
    "\n",
    "    Parameters\n",
    "    ----------\n",
    "    X : numpy.ndarray, shape=(M, 1)\n",
    "        Data vector.\n",
    "        \n",
    "    K : int\n",
    "        Number of clusters.\n",
    "        \n",
    "    max_iter : int\n",
    "        Number of iteration.\n",
    "        \n",
    "\n",
    "    Returns\n",
    "    -------\n",
    "    numpy.ndarray, shape=(K, 2, 1)\n",
    "        Represent the encoded centroids.\n",
    "\n",
    "    numpy.ndarray, shape=(M, 1)\n",
    "        Array where each point is assigned to the closest cluster.\n",
    "    \"\"\" \n",
    "    \n",
    "    centroids = kMeansInitCentroidsQ(X, k)\n",
    "\n",
    "    points_init_state = init_state()\n",
    "    encoded_X = encode_data(points_init_state, X)\n",
    "\n",
    "    for _ in range(max_iter):\n",
    "        idx = findClosestCentroidsQ(encoded_X, centroids)\n",
    "        centroids = computeCentroidsQ(encoded_X, idx, k)\n",
    "        \n",
    "    return centroids, idx"
   ]
  },
  {
   "cell_type": "markdown",
   "id": "0832c1ab",
   "metadata": {},
   "source": [
    "### Running Quantum K-Mean"
   ]
  },
  {
   "cell_type": "code",
   "execution_count": 16,
   "id": "d4975d16",
   "metadata": {},
   "outputs": [
    {
     "name": "stderr",
     "output_type": "stream",
     "text": [
      "/var/folders/s8/bftzxrpj0g3bglbdz317rpc80000gn/T/ipykernel_25346/2737217175.py:26: DeprecationWarning: Conversion of an array with ndim > 0 to a scalar is deprecated, and will error in future. Ensure you extract a single element from your array before performing this operation. (Deprecated NumPy 1.25.)\n",
      "  ry = RYGate(float(point)).to_matrix()\n"
     ]
    }
   ],
   "source": [
    "centroids_encoded, idx = k_meansQ(X, 2, 200)"
   ]
  },
  {
   "cell_type": "markdown",
   "id": "8bbbdcd0",
   "metadata": {},
   "source": [
    "### Measuring Centroids"
   ]
  },
  {
   "cell_type": "code",
   "execution_count": 17,
   "id": "4a6626ea",
   "metadata": {},
   "outputs": [
    {
     "data": {
      "text/plain": [
       "(2, 2)"
      ]
     },
     "execution_count": 17,
     "metadata": {},
     "output_type": "execute_result"
    }
   ],
   "source": [
    "# hamiltonian or Observable\n",
    "z_gate = ZGate().to_matrix()\n",
    "y_gate = YGate().to_matrix()\n",
    "x_gate = XGate().to_matrix()\n",
    "\n",
    "z_gate.shape"
   ]
  },
  {
   "cell_type": "code",
   "execution_count": 18,
   "id": "ca002788",
   "metadata": {},
   "outputs": [
    {
     "data": {
      "text/plain": [
       "[array(-0.90228979), array(0.91058442)]"
      ]
     },
     "execution_count": 18,
     "metadata": {},
     "output_type": "execute_result"
    }
   ],
   "source": [
    "centroids = []\n",
    "# centroids.append(measure(centroids_encoded[0], z_gate).squeeze())\n",
    "# centroids.append(measure(centroids_encoded[1], z_gate).squeeze())\n",
    "centroids.append(measure(centroids_encoded[0], x_gate).squeeze())\n",
    "centroids.append(measure(centroids_encoded[1], x_gate).squeeze())\n",
    "# centroids.append(measure(centroids_encoded[0], y_gate).squeeze())\n",
    "# centroids.append(measure(centroids_encoded[1], y_gate).squeeze())\n",
    "centroids"
   ]
  },
  {
   "cell_type": "markdown",
   "id": "1c73783d",
   "metadata": {},
   "source": [
    "### Cluster Evaluation"
   ]
  },
  {
   "cell_type": "code",
   "execution_count": 19,
   "id": "4e2cfcf8",
   "metadata": {},
   "outputs": [
    {
     "name": "stdout",
     "output_type": "stream",
     "text": [
      "Silhouette Score: 0.9743571062715805\n"
     ]
    }
   ],
   "source": [
    "\n",
    "from sklearn.metrics import silhouette_score\n",
    "\n",
    "# Assuming X and idx are already defined (from your clustering algorithm)\n",
    "silhouette_value = silhouette_score(X, idx)\n",
    "print(f\"Silhouette Score: {silhouette_value}\")\n"
   ]
  },
  {
   "cell_type": "markdown",
   "id": "851bea2b",
   "metadata": {},
   "source": [
    "### Visualize The Clusters and the centroids"
   ]
  },
  {
   "cell_type": "code",
   "execution_count": 20,
   "id": "a167d61c",
   "metadata": {},
   "outputs": [
    {
     "data": {
      "image/png": "[encoded data removed]",
      "text/plain": [
       "<Figure size 640x480 with 1 Axes>"
      ]
     },
     "metadata": {},
     "output_type": "display_data"
    }
   ],
   "source": [
    "visualize(X, idx, centroids)"
   ]
  },
  {
   "cell_type": "markdown",
   "id": "859cac42",
   "metadata": {},
   "source": [
    "## Observations\n",
    "- Enconding the date with RYGate -> results in a better clustring specially with measuring on the x-axis.\n",
    "- The output of the quantum system when measured is constrained between `-1 and 1` because the eigenvalues of observables are `-1 and 1`, there for it will be better to scale the data in this range.\n",
    "- Measuring on the same axis of encoding yeilds unuseful results."
   ]
  },
  {
   "cell_type": "markdown",
   "id": "d8d87167",
   "metadata": {},
   "source": [
    "---\n",
    "$$ Good \\space Luck ✨$$ "
   ]
  }
 ],
 "metadata": {
  "colab": {
   "provenance": []
  },
  "kernelspec": {
   "display_name": "Python 3 (ipykernel)",
   "language": "python",
   "name": "python3"
  },
  "language_info": {
   "codemirror_mode": {
    "name": "ipython",
    "version": 3
   },
   "file_extension": ".py",
   "mimetype": "text/x-python",
   "name": "python",
   "nbconvert_exporter": "python",
   "pygments_lexer": "ipython3",
   "version": "3.9.19"
  }
 },
 "nbformat": 4,
 "nbformat_minor": 5
}
